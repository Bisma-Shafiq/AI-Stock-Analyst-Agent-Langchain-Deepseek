{
 "cells": [
  {
   "cell_type": "code",
   "execution_count": 1,
   "metadata": {},
   "outputs": [
    {
     "name": "stdout",
     "output_type": "stream",
     "text": [
      "hello\n"
     ]
    }
   ],
   "source": [
    "print(\"hello\")"
   ]
  },
  {
   "cell_type": "code",
   "execution_count": 3,
   "metadata": {},
   "outputs": [
    {
     "data": {
      "text/plain": [
       "True"
      ]
     },
     "execution_count": 3,
     "metadata": {},
     "output_type": "execute_result"
    }
   ],
   "source": [
    "import os\n",
    "from langchain_groq import ChatGroq\n",
    "from groq import Groq\n",
    "from dotenv import load_dotenv\n",
    "load_dotenv()"
   ]
  },
  {
   "cell_type": "code",
   "execution_count": 4,
   "metadata": {},
   "outputs": [],
   "source": [
    "GROQ_API_KEY = os.getenv(\"GROQ_API_KEY\")\n",
    "groq_client = Groq(api_key=GROQ_API_KEY)\n",
    "\n",
    "\n"
   ]
  },
  {
   "cell_type": "code",
   "execution_count": 5,
   "metadata": {},
   "outputs": [],
   "source": [
    "# For LangChain integration (if needed)\n",
    "llm_model = ChatGroq(\n",
    "    api_key=GROQ_API_KEY,\n",
    "    model_name=\"gemma2-9b-it\"  # or \"llama3-70b-8192\"\n",
    ")"
   ]
  },
  {
   "cell_type": "code",
   "execution_count": 6,
   "metadata": {},
   "outputs": [],
   "source": [
    "# Example usage\n",
    "response = groq_client.chat.completions.create(\n",
    "    messages=[{\"role\": \"user\", \"content\": \"Explain quantum physics in simple terms\"}],\n",
    "    model=\"gemma2-9b-it\"\n",
    ")"
   ]
  },
  {
   "cell_type": "code",
   "execution_count": 7,
   "metadata": {},
   "outputs": [
    {
     "data": {
      "text/plain": [
       "ChatCompletion(id='chatcmpl-799667b8-208c-4a6a-8a40-d2f54edb7408', choices=[Choice(finish_reason='stop', index=0, logprobs=None, message=ChatCompletionMessage(content='Imagine the world is made of tiny Lego blocks. In the normal world, these blocks are like bowling balls - big and easy to see where they are.\\n\\nQuantum physics is like looking at these blocks through a super-powered microscope. You realize they aren\\'t really solid balls, they\\'re more like blurry clouds of possibility.\\n\\nHere are some weird things about quantum physics:\\n\\n* **Things can be in two places at once:**  Think of the Lego block as being both red and blue at the same time. Until you look at it closely, it\\'s both colors!\\n* **Observing changes things:**  The moment you peek at that blurry Lego block, it suddenly decides to be either red or blue. Just looking at it forces it to choose.\\n* **Things can tunnel through walls:** Imagine a Lego block passing right through another block, like it\\'s a ghost! This is called \"quantum tunneling\", and it only happens at the tiny scale.\\n* **Everything is connected:**  Even if two Lego blocks are miles apart, they can still be linked together in a spooky way. Changing one block instantly affects the other, no matter the distance.\\n\\n**Why is this important?**\\n\\nQuantum physics might seem strange, but it\\'s actually how the universe works at its most fundamental level.  \\n\\nThis understanding has led to incredible technologies like lasers, transistors (in your computer!), and even MRI machines. There\\'s still a lot we don\\'t know, but exploring the quantum world holds the key to many future discoveries.\\n\\n\\nLet me know if you have any other questions!\\n', role='assistant', function_call=None, tool_calls=None))], created=1738158849, model='gemma2-9b-it', object='chat.completion', system_fingerprint='fp_10c08bf97d', usage=CompletionUsage(completion_tokens=332, prompt_tokens=15, total_tokens=347, completion_time=0.603636364, prompt_time=7.7519e-05, queue_time=0.02264306, total_time=0.603713883), x_groq={'id': 'req_01jjs5ef9devyap0rjwqhfmpzs'})"
      ]
     },
     "execution_count": 7,
     "metadata": {},
     "output_type": "execute_result"
    }
   ],
   "source": [
    "response"
   ]
  },
  {
   "cell_type": "code",
   "execution_count": null,
   "metadata": {},
   "outputs": [],
   "source": []
  }
 ],
 "metadata": {
  "kernelspec": {
   "display_name": "venv",
   "language": "python",
   "name": "python3"
  },
  "language_info": {
   "codemirror_mode": {
    "name": "ipython",
    "version": 3
   },
   "file_extension": ".py",
   "mimetype": "text/x-python",
   "name": "python",
   "nbconvert_exporter": "python",
   "pygments_lexer": "ipython3",
   "version": "3.9.13"
  }
 },
 "nbformat": 4,
 "nbformat_minor": 2
}
